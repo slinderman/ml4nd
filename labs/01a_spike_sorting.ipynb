{
  "cells": [
    {
      "cell_type": "markdown",
      "metadata": {
        "id": "PhZTZAxw1_2_"
      },
      "source": [
        "# Spike Sorting by Clustering\n",
        "\n",
        "In this lab you'll build a basic spike sorting model and algorithm, as discussed in the [Spike Sorting by Clustering](../lectures/04a_spike_sorting_clustering.ipynb) chapter. The model is inspired by widely used spike sorting tools like [MountainSort](https://github.com/flatironinstitute/mountainsort5). We'll fit the model to synthetic data simulated with [SpikeInterface](https://github.com/SpikeInterface/spikeinterface), so that we know the ground truth spike times, IDs, and templates."
      ]
    },
    {
      "cell_type": "markdown",
      "metadata": {},
      "source": [
        "## Setup\n",
        "\n",
        "The assignment will be implemented in PyTorch. If you are unfamiliar with PyTorch, we encourage you to work on the [PyTorch Primer](00_pytorch_primer.ipynb) tutorial before diving in to this lab.\n",
        "\n",
        "We also use `jaxtyping` for type annotations of our functions. It allows us to specify the type and shape of tensors. These annotations won't cause runtime errors if you call the function with improper arguments, but they are helpful for understanding the code.\n"
      ]
    },
    {
      "cell_type": "code",
      "execution_count": 1,
      "metadata": {},
      "outputs": [],
      "source": [
        "%%capture\n",
        "try:\n",
        "    import jaxtyping\n",
        "except ImportError:\n",
        "    !pip install jaxtyping"
      ]
    },
    {
      "cell_type": "code",
      "execution_count": 2,
      "metadata": {
        "id": "9PWc6KZ91vya"
      },
      "outputs": [],
      "source": [
        "# First, import necessary libraries.\n",
        "import matplotlib.pyplot as plt\n",
        "import scipy.signal as signal\n",
        "import torch\n",
        "import torch.distributions as dist\n",
        "\n",
        "from jaxtyping import Float, Int\n",
        "from torch import Tensor"
      ]
    },
    {
      "cell_type": "markdown",
      "metadata": {
        "id": "NrWkNIrX2Cx8"
      },
      "source": [
        "### Load the data\n",
        "\n",
        "We created a synthetic dataset for this lab, so we know the ground truth spike times, spike IDs, and neuron templates. We will evaluate how well we can recover those spikes, assignments, and templates using our model. \n",
        "\n",
        "For simplicity, we provide you with preprocessed data that has already been bandpass filtered and whitened. This lab will focus on detecting spikes and clustering them with a Gaussian mixture model."
      ]
    },
    {
      "cell_type": "code",
      "execution_count": 3,
      "metadata": {
        "id": "n9wJuTuQ2slC"
      },
      "outputs": [],
      "source": [
        "%%capture\n",
        "!wget -nc https://github.com/slinderman/ml4nd/raw/refs/heads/main/data/01_simple_spike_sorting/lab01_data.pt"
      ]
    },
    {
      "cell_type": "markdown",
      "metadata": {},
      "source": [
        "The data has four fields:\n",
        "- `traces`: A $T \\times N$ tensor of preprocessed voltage measurements (z-scored so they are in units of standard deviation) over $T$ time steps and $N$ recording channels\n",
        "- `true_spike_times`: A length $S$ tensor of spike times (in the range $0, \\ldots, T-1$) corresponding to when spikes truly happened in this simulated dataset\n",
        "- `true_spike_ids`: A length $S$ tensor of spike IDs (in the range $0,\\ldots, K-1$, where $K$ denotes the number of neurons) representing which neuron produced the corresponding spike\n",
        "- `sampling_frequency`: The sampling frequency of the recording (in Hz)"
      ]
    },
    {
      "cell_type": "code",
      "execution_count": 4,
      "metadata": {
        "id": "jAWjwoNx23Cd"
      },
      "outputs": [],
      "source": [
        "# Load the data\n",
        "data = torch.load(\"lab01_data.pt\")\n",
        "traces = data[\"traces\"]\n",
        "true_spike_times = data[\"true_spike_times\"]\n",
        "true_spike_ids = data[\"true_spike_ids\"]\n",
        "true_templates = data[\"true_templates\"]\n",
        "\n",
        "# Extract scalar constants \n",
        "SAMPLING_FREQUENCY = data[\"sampling_frequency\"]\n",
        "NUM_SAMPLES, NUM_CHANNELS = traces.shape\n",
        "TRUE_NUM_SPIKES = true_spike_times.shape[0]\n",
        "TRUE_NUM_NEURONS, WINDOW_SIZE, _ = true_templates.shape"
      ]
    },
    {
      "cell_type": "markdown",
      "metadata": {},
      "source": [
        "### Helper functions\n",
        "\n",
        "We provide two helper functions for plotting.\n",
        "- `plot_slice` plots a slice of the data. It shows the spike train along with the voltage traces for each channel.\n",
        "- `plot_waveforms` can be used to plot the waveforms for inferred spikes or the templates of a spike sorting model."
      ]
    },
    {
      "cell_type": "code",
      "execution_count": 5,
      "metadata": {
        "tags": [
          ":hide-cell:"
        ]
      },
      "outputs": [],
      "source": [
        "def plot_slice(traces: Float[Tensor, \"num_samples num_channels\"],\n",
        "               spike_times: Int[Tensor, \"num_spikes\"],\n",
        "               spike_ids: Int[Tensor, \"num_spikes\"],\n",
        "               start_time: float=0,\n",
        "               end_time: float=1.0,\n",
        "               ylim: float=None):\n",
        "    \"\"\"\n",
        "    Plot a slice of the recording and the corresponding spike times.\n",
        "\n",
        "    Parameters\n",
        "    ----------\n",
        "    traces : torch.Tensor\n",
        "        The voltage traces.\n",
        "    spike_times : torch.Tensor\n",
        "        The spike times, in samples.\n",
        "    spike_ids : torch.Tensor\n",
        "        The spike IDs, taking values 0,1,2,...,num_neurons-1\n",
        "    start_time : float\n",
        "        The start time of the slice, in seconds.\n",
        "    end_time : float\n",
        "        The end time of the slice, in seconds.\n",
        "    ylim : float\n",
        "        The y-limit for the traces. If None, it is set to 1.05 times the max absolute value of the traces.\n",
        "    \"\"\"\n",
        "    # Extract constants\n",
        "    num_samples, num_channels = traces.shape\n",
        "    num_neurons = spike_ids.max() + 1\n",
        "\n",
        "    # Extract the slice of the recording\n",
        "    slc = slice(int(start_time * SAMPLING_FREQUENCY), int(end_time * SAMPLING_FREQUENCY))\n",
        "    \n",
        "    # Get the y-limit for traces if not specified\n",
        "    if ylim is None:\n",
        "        ylim = 1.05 * traces[slc].abs().max()\n",
        "\n",
        "    # Make an array of times in seconds\n",
        "    times_sec = torch.arange(0, num_samples) / SAMPLING_FREQUENCY\n",
        "    spike_times_sec = times_sec[spike_times]\n",
        "    spike_in_slice = (spike_times_sec >= start_time) & (spike_times_sec <= end_time)\n",
        "\n",
        "    # Plot the spike raster\n",
        "    fig, axs = plt.subplots(num_channels + 1, 1, sharex=True, figsize=(6, 1.5 * (num_channels + 1)))\n",
        "    axs[0].plot(spike_times_sec[spike_in_slice], spike_ids[spike_in_slice], '|k', markersize=6)\n",
        "    axs[0].set_ylabel(\"neuron\")\n",
        "    axs[0].set_yticks(torch.arange(0, num_neurons))\n",
        "    axs[0].set_title(\"spike train\")\n",
        "\n",
        "    # Plot the voltage traces \n",
        "    for i in range(num_channels):\n",
        "        axs[i+1].plot(times_sec[slc], traces[slc, i], color='k', lw=1, alpha=0.5)\n",
        "        axs[i+1].set_title(f\"channel {i+1}\", fontsize=10)\n",
        "        axs[i+1].set_ylim(-ylim, ylim)\n",
        "        axs[i+1].set_ylabel(\"trace\\n[z-score]\")\n",
        "        axs[i+1].set_xlim(start_time, end_time)\n",
        "        if i == num_channels - 1: \n",
        "            axs[i+1].set_xlabel(f\"time [sec]\")\n",
        "    \n",
        "    plt.tight_layout()\n",
        "    return fig, axs"
      ]
    },
    {
      "cell_type": "code",
      "execution_count": 6,
      "metadata": {
        "tags": [
          ":hide-cell:"
        ]
      },
      "outputs": [],
      "source": [
        "def plot_waveforms(waveforms: Float[Tensor, \"num_waveforms windows_size num_channels\"],\n",
        "                   name: str=\"waveform\"):\n",
        "    \"\"\"\n",
        "    Plot a grid of spike waveforms or templates.\n",
        "\n",
        "    Parameters\n",
        "    ----------\n",
        "    waveforms : torch.Tensor\n",
        "        The waveforms (or templates) to plot.\n",
        "\n",
        "    name : str\n",
        "        The name of the waveforms (or templates) to plot. Default is \"waveform\".\n",
        "    \"\"\"\n",
        "    num_waveforms, window_size, num_channels = waveforms.shape\n",
        "    times = torch.arange(-window_size//2, window_size//2) / SAMPLING_FREQUENCY * 1000\n",
        "    fig, axs = plt.subplots(num_channels, num_waveforms, \n",
        "                            figsize=(1.25 * num_waveforms, 1.25 * num_channels), \n",
        "                            sharex=True, sharey=True)\n",
        "    lim = 1.05 * waveforms.abs().max()\n",
        "    for j in range(num_waveforms):\n",
        "        for i in range(num_channels):\n",
        "            axs[i,j].plot(times, waveforms[j,:,i], color='k', lw=1, alpha=0.5)\n",
        "            axs[i,j].set_ylim(-lim, lim)\n",
        "            # axs[i,j].set_xlabel(\"time [samples]\")\n",
        "            # axs[i,j].set_title(f\"waveform {j}\\n channel {i}\")\n",
        "            if j == 0:\n",
        "                axs[i,j].set_ylabel(f\"channel {i}\\n [z-score]\")\n",
        "            if i == 0:\n",
        "                axs[i,j].set_title(f\"{name} {j}\")\n",
        "            if i == num_channels - 1:\n",
        "                axs[i,j].set_xlabel(f\"time [ms]\")\n",
        "    plt.tight_layout()\n",
        "    \n",
        "    return fig, axs"
      ]
    },
    {
      "cell_type": "markdown",
      "metadata": {},
      "source": [
        "Use the helper function to plot the first second of the data."
      ]
    },
    {
      "cell_type": "code",
      "execution_count": 7,
      "metadata": {},
      "outputs": [
        {
          "data": {
            "image/png": "[encoded data removed]",
            "text/plain": [
              "<Figure size 600x750 with 5 Axes>"
            ]
          },
          "metadata": {},
          "output_type": "display_data"
        }
      ],
      "source": [
        "_ = plot_slice(\n",
        "    traces,\n",
        "    true_spike_times,\n",
        "    true_spike_ids,\n",
        "    start_time=0.0,\n",
        "    end_time=1.0,\n",
        ")"
      ]
    },
    {
      "cell_type": "markdown",
      "metadata": {},
      "source": [
        "Now plot a 50 ms snippet so we can better see the voltage traces around each spike."
      ]
    },
    {
      "cell_type": "code",
      "execution_count": 8,
      "metadata": {},
      "outputs": [
        {
          "data": {
            "image/png": "[encoded data removed]",
            "text/plain": [
              "<Figure size 600x750 with 5 Axes>"
            ]
          },
          "metadata": {},
          "output_type": "display_data"
        }
      ],
      "source": [
        "_ = plot_slice(\n",
        "    traces,\n",
        "    true_spike_times,\n",
        "    true_spike_ids,\n",
        "    start_time=0.65,\n",
        "    end_time=0.70,\n",
        ")"
      ]
    },
    {
      "cell_type": "markdown",
      "metadata": {},
      "source": [
        "Finally, plot the true templates for each neuron in this synthetic dataset.\n",
        "Each time a neuron spikes, these templates are superimposed to create the traces above."
      ]
    },
    {
      "cell_type": "code",
      "execution_count": 9,
      "metadata": {},
      "outputs": [
        {
          "data": {
            "text/plain": [
              "Text(0.5, 1.05, 'True templates')"
            ]
          },
          "execution_count": 9,
          "metadata": {},
          "output_type": "execute_result"
        },
        {
          "data": {
            "image/png": "[encoded data removed]",
            "text/plain": [
              "<Figure size 1000x500 with 32 Axes>"
            ]
          },
          "metadata": {},
          "output_type": "display_data"
        }
      ],
      "source": [
        "fig, axs = plot_waveforms(true_templates, name=\"template\")\n",
        "fig.suptitle(\"True templates\", y=1.05)"
      ]
    },
    {
      "cell_type": "markdown",
      "metadata": {},
      "source": [
        "Notice that some neuron produce larger amplitude spikes than others. For example, neuron 4 produces large spikes on channel 3, whereas neuron 3 produces very small spikes on all channels."
      ]
    },
    {
      "cell_type": "markdown",
      "metadata": {
        "id": "AT6QxKjdYs4E"
      },
      "source": [
        "## Part 1: Detect spike times\n",
        "\n",
        "The next step of the process is to detect spike times by looking for pronounced dips in the signal on at least one channel. Since the traces have already been standardized, each trace has unit variance. To stand out from the noise, a spike should have a magnitude of at least -4, which means it is at least 4 standard deviations below the mean. Moreover, spikes should be separated from one another by at least 3 ms. "
      ]
    },
    {
      "cell_type": "markdown",
      "metadata": {
        "id": "waOJVPrwM3nw"
      },
      "source": [
        "### Problem 1a: Find negative peaks in the data\n",
        "\n",
        "Use the `signal.find_peaks` function to extract negative peaks on at least one channel. A simple way to do so is to compute the minimum value across channels for each time step, then negate that signal and look for peaks that match the heigh and distance criteria described above."
      ]
    },
    {
      "cell_type": "code",
      "execution_count": null,
      "metadata": {
        "colab": {
          "base_uri": "https://localhost:8080/",
          "height": 524,
          "referenced_widgets": [
            "6fcb324f75624a8487d5f242222dc630",
            "0d14c0c362d34898b23d9e6ebed3023d",
            "a836eaa8bf3d45fabd756d432cbee25e",
            "49abd7dbe82d42f497001cd8fc7850d0",
            "96ef6b8cd12c4c768a8e3567a3b6a4c5",
            "997037fed3e14da6bcd522c2760f1758",
            "763d50540c5542b7a74b4ec6dd648495",
            "230ab1a4959b4a9190b8328737985aaa"
          ]
        },
        "id": "g2fHBfZCZJvY",
        "outputId": "c545fa53-2f8c-4e9b-ae25-87e2b5d9cde6"
      },
      "outputs": [],
      "source": [
        "# TODO\n",
        "detected_spike_times = ...\n",
        "\n",
        "# Make sure the result is a tensor\n",
        "detected_spike_times = torch.tensor(detected_spike_times)\n",
        "num_detected_spikes = detected_spike_times.shape[0]"
      ]
    },
    {
      "cell_type": "code",
      "execution_count": null,
      "metadata": {},
      "outputs": [],
      "source": [
        "# Plot the inferred spike times with dummy spike ids\n",
        "dummy_spike_ids = torch.zeros_like(detected_spike_times)\n",
        "\n",
        "_ = plot_slice(\n",
        "    traces,\n",
        "    detected_spike_times,\n",
        "    dummy_spike_ids,\n",
        "    start_time=0.,\n",
        "    end_time=1.0,\n",
        ")"
      ]
    },
    {
      "cell_type": "markdown",
      "metadata": {},
      "source": [
        "### Problem 1b: Evaluate the inferred spike times\n",
        "\n",
        "To evaluate the detected spikes, let's think of it as a binary classification problem.\n",
        "If a true spike and an detected spike are found in close proximity, \n",
        "the detected spike is a _true positive_. If there is an detected spike but \n",
        "no true spike, then it's a _false positive_. True and false negatives are \n",
        "defined similarly. \n",
        "\n",
        "**For this problem, comment the code below. Add a function header and comments to explain the operations.**\n"
      ]
    },
    {
      "cell_type": "code",
      "execution_count": null,
      "metadata": {},
      "outputs": [],
      "source": [
        "def evaluate_detected_spikes(\n",
        "        detected_spike_times: Int[Tensor, \"num_detected_spikes\"],\n",
        "        true_spike_times: Int[Tensor, \"num_true_spikes\"]) -> dict:\n",
        "    \"\"\"\n",
        "    TODO\n",
        "    \"\"\"\n",
        "    # TODO\n",
        "    true_spike_mask = torch.zeros(NUM_SAMPLES // WINDOW_SIZE, dtype=torch.bool)\n",
        "    true_spike_mask[true_spike_times // WINDOW_SIZE] = True\n",
        "    \n",
        "    # TODO\n",
        "    detected_spike_mask = torch.zeros(NUM_SAMPLES // WINDOW_SIZE, dtype=torch.bool)\n",
        "    detected_spike_mask[detected_spike_times // WINDOW_SIZE] = True\n",
        "    \n",
        "    # TODO\n",
        "    tp = (true_spike_mask & detected_spike_mask).sum().item()\n",
        "    fp = (detected_spike_mask & ~true_spike_mask).sum().item()\n",
        "    fn = (~detected_spike_mask & true_spike_mask).sum().item()\n",
        "    tn = (~detected_spike_mask & ~true_spike_mask).sum().item()\n",
        "\n",
        "    # TODO\n",
        "    return dict(tp=tp, fp=fp, fn=fn, tn=tn)\n",
        "    \n",
        "perf_stats = evaluate_detected_spikes(\n",
        "    detected_spike_times,\n",
        "    true_spike_times\n",
        ")\n",
        "    "
      ]
    },
    {
      "cell_type": "markdown",
      "metadata": {},
      "source": [
        "### Problem 1c: Precision and Recall\n",
        "\n",
        "Based on the number of true positives ($TP$), false positives ($FP$), false negatives ($FN$), and true negatives ($TN$), compute and print the precision and recall the spike detector,\n",
        "\\begin{align*}\n",
        "\\mathrm{precision} &= \\frac{TP}{TP + FP} \\\\\n",
        "\\mathrm{recall} &= \\frac{TP}{TP + FN}\n",
        "\\end{align*}"
      ]
    },
    {
      "cell_type": "code",
      "execution_count": null,
      "metadata": {},
      "outputs": [],
      "source": [
        "# TODO\n",
        "print(...)"
      ]
    },
    {
      "cell_type": "markdown",
      "metadata": {},
      "source": [
        "### Problem 1d: Interpretation\n",
        "\n",
        "Explain what the precision and recall tell us about the efficacy of this spike detector. Are they any limitations to this performance summary?"
      ]
    },
    {
      "cell_type": "markdown",
      "metadata": {},
      "source": [
        "---\n",
        "\n",
        "_Your answer here_\n",
        "\n",
        "---"
      ]
    },
    {
      "cell_type": "markdown",
      "metadata": {
        "id": "5bXXyQVfHQhC"
      },
      "source": [
        "### Extract the spike waveforms [no coding required]\n",
        "\n",
        "Finally, we have written a simple for loop to extract _spike waveforms_ &mdash; windows of the voltage trace surrounding each inferred spike. The spike waveforms are centered on the detected spike times, just like the true templates."
      ]
    },
    {
      "cell_type": "code",
      "execution_count": null,
      "metadata": {
        "colab": {
          "base_uri": "https://localhost:8080/",
          "height": 736
        },
        "id": "oeYkgn1qrrkk",
        "outputId": "a2188116-4759-4663-b6b2-96119a84fab7"
      },
      "outputs": [],
      "source": [
        "spike_waveforms = torch.zeros((num_detected_spikes, WINDOW_SIZE, NUM_CHANNELS))\n",
        "\n",
        "for i, t in enumerate(detected_spike_times):\n",
        "    slc = slice(t - WINDOW_SIZE // 2, t + WINDOW_SIZE // 2)\n",
        "    spike_waveforms[i] = traces[slc]"
      ]
    },
    {
      "cell_type": "code",
      "execution_count": null,
      "metadata": {},
      "outputs": [],
      "source": [
        "# Plot a few of the waveforms\n",
        "fig, axs = plot_waveforms(spike_waveforms[:5], name=\"waveform\")\n",
        "fig.suptitle(\"First 5 spike waveforms\", y=1.05)"
      ]
    },
    {
      "cell_type": "markdown",
      "metadata": {},
      "source": [
        "## Part 2: Simple Spike Sorting\n",
        "\n",
        "Now let's write a simple spike sorting algorithm to cluster the spikes based on their waveforms! \n",
        "\n",
        "Let $\\mathbf{X}_s \\in \\mathbb{R}^{D \\times N}$ denote the waveform of spike $s$. It is $D$ samples long and $N$ channels wide, with entries denoted by,\n",
        "\\begin{align*}\n",
        "\\mathbf{X}_s = \n",
        "\\begin{bmatrix}\n",
        "x_{s,1,1} & \\cdots & x_{s,1,N} \\\\\n",
        "\\vdots & & \\vdots \\\\\n",
        "x_{s,D,1} & \\cdots & x_{s,D,N} \n",
        "\\end{bmatrix}\n",
        "\\end{align*} \n",
        "\n",
        "Assume each spike waveform can be attributed to one of $N$ neurons. \n",
        "Each neuron $k=1,\\ldots,K$ is associated with a template, $\\mathbf{W}_k \\in \\mathbb{R}^{D \\times N}$ with entries,\n",
        "\\begin{align*}\n",
        "\\mathbf{W}_k = \n",
        "\\begin{bmatrix}\n",
        "w_{k,1,1} & \\cdots & w_{k,1,N} \\\\\n",
        "\\vdots & & \\vdots \\\\\n",
        "w_{k,D,1} & \\cdots & w_{k,D,N} \n",
        "\\end{bmatrix}\n",
        "\\end{align*} \n",
        "\n",
        "Let $z_s \\in \\{1,\\ldots, K\\}$ be a latent variable that specifies which neuron produced spike $s$. \n",
        "We assume that each spike waveform equal to the template of the neuron that produced it, plus Gaussian noise,\n",
        "\\begin{align*}\n",
        "\\mathbf{X}_s &= \\mathbf{W}_{z_s} + \\mathbf{E}_s,\n",
        "\\end{align*}\n",
        "where $\\mathbf{E}_s \\in \\mathbb{R}^{D \\times N}$ is a matrix of i.i.d. Gaussian random variables, each with mean zero and variance $\\sigma^2$. \n",
        "\n",
        "In other words, we assume a Gaussian likelihood model of the form,\n",
        "\\begin{align*}\n",
        "p(\\mathbf{X}_s \\mid z_s = k) \n",
        "&= \\prod_{d=1}^D \\prod_{k=1}^N\n",
        "\\mathcal{N}(x_{s,d,n} \\mid w_{k,d,c}, \\sigma^2).\n",
        "\\end{align*}\n",
        "\n",
        "where\n",
        "\n",
        "\\begin{align*}\n",
        "\\mathcal{N}(x \\mid \\mu, \\sigma^2) = \\frac{1}{\\sqrt{2 \\pi \\sigma^2}} e^{-\\frac{1}{2 \\sigma^2}(x - \\mu)^2}\n",
        "\\end{align*}\n",
        "\n",
        "is the probability density function (pdf) of a Gaussian distribution with mean $\\mu$ and variance $\\sigma^2$ evaluated at a point $x$.\n",
        "\n",
        "To fit the model, we need to infer the latent spike IDs $z_s$ for $s=1,\\ldots,S$, as well as the templates $\\mathbf{W}_k$ for $k=1,\\ldots,K$. \n",
        "We will do so by maximizing the log probability with respect to $z_s$ and $\\mathbf{W}_k$. \n",
        "In particular, we will use coordinate ascent, alternating between updating the latent variables while keeping the templates fixed, and then updating the templates given the latent variables. \n",
        "\n",
        "To simplify notation, let\n",
        "- $\\mathbf{X} = \\{\\mathbf{X}_s\\}_{s=1}^S$ denote the set of all spike waveforms, \n",
        "- $\\mathbf{z} = \\{z_s\\}_{s=1}^S$ denote the set of spike assignments, and \n",
        "- $\\mathbf{W} = \\{\\mathbf{W}_k\\}_{k=1}^K$ denote the set of all templates. \n",
        "\n",
        "The log joint probability, viewed as a function of $\\mathbf{z}$ and $\\mathbf{W}$, is\n",
        "\n",
        "\\begin{align*}\n",
        "L(\\mathbf{z}, \\mathbf{W})  \\triangleq \n",
        "\\log p(\\mathbf{X}, \\mathbf{z}; \\mathbf{W})\n",
        "= \\sum_{s=1}^S \\log p(\\mathbf{X}_s \\mid z_s) + \\log p(z_s)\n",
        "\\end{align*}\n",
        "\n",
        "Assume that all spike assignments are equally probable under the prior, so that $p(z_s = k) = \\frac{1}{K}$ and $\\log p(z_s) = -\\log K$ for all settings of $z_s$. Then, substituting the likelihood above, we have the following objective function,\n",
        "\n",
        "\\begin{align*}\n",
        "L(\\mathbf{z}, \\mathbf{W}) \n",
        "= \\sum_{s=1}^S \\sum_{d=1}^D \\sum_{n=1}^N \\log \\mathcal{N}(x_{s,d,n} \\mid w_{z_s,d,n}, \\sigma^2) + \\mathrm{const}\n",
        "\\end{align*}\n",
        "\n",
        "Our goal is to find assignments of $\\mathbf{z}$ and $\\mathbf{W}$ that maximize $L$.\n"
      ]
    },
    {
      "cell_type": "markdown",
      "metadata": {},
      "source": [
        "### Problem 2a: Deriving the template update\n",
        "\n",
        "First, show that if you fix the spike assignments, $\\mathbf{z}$, the log probability is maximized by setting,\n",
        "\\begin{align*}\n",
        "w_{k,d,n} &= \\frac{1}{S_k} \\sum_{s:z_s = k} x_{s,d,n}\n",
        "\\end{align*}\n",
        "where $S_k = \\sum_s \\mathbb{I}[z_s=k]$ is the number of spikes assigned to neuron $k$."
      ]
    },
    {
      "cell_type": "markdown",
      "metadata": {},
      "source": [
        "---\n",
        "\n",
        "_Your answer here_\n",
        "\n",
        "---"
      ]
    },
    {
      "cell_type": "markdown",
      "metadata": {},
      "source": [
        "### Problem 2b: Derive the spike assignment updates\n",
        "\n",
        "Next, show that when you fix the templates, the log probability is optimized by setting,\n",
        "\n",
        "\\begin{align*}\n",
        "z_s &= \\arg \\max_k \\; \\sum_{d=1}^D \\sum_{n=1}^N \\log \\mathcal{N}(x_{s,d,n} \\mid w_{k,d,n}, \\sigma^2).\n",
        "\\end{align*}\n",
        "\n",
        "Or equivalently,\n",
        "\n",
        "\\begin{align*}\n",
        "z_s &= \\arg \\min_k \\; \\|\\mathbf{X}_s - \\mathbf{W}_k\\|_F^2.\n",
        "\\end{align*}\n",
        "\n",
        "where $\\|\\mathbf{A}\\|_F^2 = \\sum_{d=1}^D \\sum_{n=1}^N a_{d,n}^2$ is the squared Frobenius norm of a matrix $\\mathbf{A} \\in \\mathbb{R}^{D \\times N}$."
      ]
    },
    {
      "cell_type": "markdown",
      "metadata": {},
      "source": [
        "---\n",
        "\n",
        "_Your answer here_\n",
        "\n",
        "---"
      ]
    },
    {
      "cell_type": "markdown",
      "metadata": {},
      "source": [
        "### Problem 2c: Implement the model and algorithm\n",
        "\n",
        "Complete the starter code below to implement this simple spike sorting model and algorithm."
      ]
    },
    {
      "cell_type": "code",
      "execution_count": null,
      "metadata": {},
      "outputs": [],
      "source": [
        "class SimpleSpikeSorter:\n",
        "    \"\"\"\n",
        "    A simple spike sorter that uses a Gaussian mixture model (GMM) to fit the templates.\n",
        "    The GMM is fit to the putative spike waveforms using coordinate ascent on the \n",
        "    log joint probability of the model.\n",
        "\n",
        "    Parameters\n",
        "    ----------\n",
        "    initial_templates : torch.Tensor\n",
        "        The initial templates for the GMM, with shape (num_neurons, window_size, num_channels).\n",
        "\n",
        "    noise_scale : float\n",
        "        The scale of the noise in the GMM. This is used to compute the log likelihood of\n",
        "        the spike waveforms given the templates. The noise scale is assumed to be the same\n",
        "        for all neurons, samples, and channels. Note that the scale is the standard deviation\n",
        "        of the noise, not the variance.\n",
        "    \"\"\"\n",
        "    templates: Float[Tensor, \"num_neurons window_size num_channels\"]\n",
        "    noise_scale: float\n",
        "\n",
        "    def __init__(\n",
        "            self,\n",
        "            initial_templates: Float[Tensor, \"num_neurons window_size num_channels\"],\n",
        "            noise_scale: float = 1.0,\n",
        "            ) -> None:\n",
        "        self.templates = initial_templates\n",
        "        self.noise_scale = noise_scale\n",
        "\n",
        "    @property\n",
        "    def num_neurons(self) -> int:\n",
        "        return self.templates.shape[0]\n",
        "    \n",
        "    def log_probability(\n",
        "            self,\n",
        "            spike_waveforms: Float[Tensor, \"num_spikes window_size num_channels\"],\n",
        "            spike_ids: Int[Tensor, \"num_spikes\"]) -> float:\n",
        "        \"\"\"\n",
        "        Compute the log probability of the spike waveforms given the templates\n",
        "        using torch.distributions.Normal.\n",
        "        \"\"\"\n",
        "        # TODO\n",
        "        return ll\n",
        "\n",
        "    def update_templates(\n",
        "            self,\n",
        "            spike_waveforms: Float[Tensor, \"num_spikes window_size num_channels\"],\n",
        "            spike_ids: Int[Tensor, \"num_spikes\"]):\n",
        "        \"\"\"\n",
        "        Update the templates using the spike waveforms and spike IDs.\n",
        "        \"\"\"\n",
        "        # TODO\n",
        "\n",
        "    def update_spike_ids(\n",
        "            self,\n",
        "            spike_waveforms: Float[Tensor, \"num_spikes window_size num_channels\"],\n",
        "            ) -> Int[Tensor, \"num_spikes\"]:\n",
        "        \"\"\"\n",
        "        Update the spike IDs using the templates and spike waveforms.\n",
        "        Use torch.distributions.Normal to evaluate the log probabilites.\n",
        "        \"\"\"\n",
        "        # TODO\n",
        "\n",
        "        return spike_ids\n",
        "    \n",
        "    def fit(self, \n",
        "            spike_waveforms: Float[Tensor, \"num_spikes window_size num_channels\"],\n",
        "            num_iterations: int=10,\n",
        "            ) -> tuple[Float[Tensor, \"num_iterations\"], Int[Tensor, \"num_spikes\"]]:\n",
        "        \"\"\"\n",
        "        Fit the GMM to the spike waveforms using coordinate ascent on the log joint probability.\n",
        "        \"\"\"\n",
        "        # Initialize the spike IDs\n",
        "        spike_ids = self.update_spike_ids(spike_waveforms)\n",
        "\n",
        "        # Iterate to update the templates and spike IDs\n",
        "        lps = []\n",
        "        for itr in range(num_iterations):\n",
        "            lps.append(self.log_probability(spike_waveforms, spike_ids))\n",
        "            print(f\"iteration {itr}: log probability = {lps[-1]:.2f}\")\n",
        "\n",
        "            # Update the templates and spike IDs\n",
        "            self.update_templates(spike_waveforms, spike_ids)\n",
        "            spike_ids = self.update_spike_ids(spike_waveforms)\n",
        "\n",
        "        # Return the final spike IDs\n",
        "        return torch.tensor(lps), spike_ids"
      ]
    },
    {
      "cell_type": "markdown",
      "metadata": {},
      "source": [
        "Run the coordinate ascent algorithm to fit the model!"
      ]
    },
    {
      "cell_type": "code",
      "execution_count": null,
      "metadata": {},
      "outputs": [],
      "source": [
        "num_neurons = 8\n",
        "\n",
        "# Initialize the spike sorter with random templates\n",
        "torch.manual_seed(sum([ord(c) for c in \"stats\"]) + 220)\n",
        "initial_templates = spike_waveforms[torch.randint(0, num_detected_spikes, (num_neurons,))]\n",
        "spike_sorter = SimpleSpikeSorter(initial_templates)\n",
        "\n",
        "# Fit the spike sorter to the putative spike waveforms\n",
        "lps, inferred_spike_ids = spike_sorter.fit(\n",
        "    spike_waveforms,\n",
        "    num_iterations=10,\n",
        ")"
      ]
    },
    {
      "cell_type": "markdown",
      "metadata": {},
      "source": [
        "Plot the log probability over iterations of the algorithm. It should increase and then converge to a fixed value."
      ]
    },
    {
      "cell_type": "code",
      "execution_count": null,
      "metadata": {},
      "outputs": [],
      "source": [
        "plt.plot(lps, '-o')\n",
        "plt.xlabel(\"iteration\")\n",
        "plt.ylabel(\"log probability\")"
      ]
    },
    {
      "cell_type": "code",
      "execution_count": null,
      "metadata": {},
      "outputs": [],
      "source": [
        "fig, axs = plot_waveforms(spike_sorter.templates, name=\"template\")\n",
        "fig.suptitle(\"Inferred templates\", y=1.05)"
      ]
    },
    {
      "cell_type": "markdown",
      "metadata": {},
      "source": [
        "### Compare IDs of the true neurons that match each inferred spike\n",
        "\n",
        "The function below computes the identities of the true neurons corresponding\n",
        "to each inferred spike, if one exists. For each inferred spike time, first determine if there \n",
        "is a true spike within a small window of that time. If so, find the ID of the true \n",
        "neuron that generated that spike. Otherwise, declare the inferred spike to be a false \n",
        "positive, indicated by -1. \n"
      ]
    },
    {
      "cell_type": "code",
      "execution_count": null,
      "metadata": {},
      "outputs": [],
      "source": [
        "def match_true_and_inferred_spikes(\n",
        "        inferred_spike_times: Int[Tensor, \"num_detected_spikes\"],\n",
        "        true_spike_times: Int[Tensor, \"num_true_spikes\"],\n",
        "        true_spike_ids: Int[Tensor, \"num_true_spikes\"]\n",
        "        ) -> Int[Tensor, \"num_detected_spikes\"]:\n",
        "    \"\"\"\n",
        "    Match the inferred spike times to the true spike times.\n",
        "    For each inferred spike, find the closest true spike within a window size.\n",
        "    If the closest true spike is within the window size, assign the inferred spike\n",
        "    to the true spike ID. If not, assign the inferred spike to -1 (no match).\n",
        "    The matching is done with a simple for loop, which is not efficient for large\n",
        "    spike trains. However, it is simple and easy to understand.\n",
        "\n",
        "    Parameters\n",
        "    ----------\n",
        "    inferred_spike_times : torch.Tensor\n",
        "        The inferred spike times, in samples.\n",
        "    true_spike_times : torch.Tensor\n",
        "        The true spike times, in samples.\n",
        "    true_spike_ids : torch.Tensor\n",
        "        The true spike IDs, taking values 0,1,2,...,true_num_neurons-1\n",
        "    window_size : int\n",
        "        The window size, in samples.\n",
        "    sampling_frequency : int\n",
        "        The sampling frequency of the recording.\n",
        "\n",
        "    Returns\n",
        "    -------\n",
        "    matching_spike_ids : torch.Tensor\n",
        "        The IDs of the true neurons that produced the inferred spike.\n",
        "        The tensor takes values -1,0,1,2,...,num_neurons-1, where -1 indicates \n",
        "        that the inferred spike does not match any true spike within the window size.\n",
        "\n",
        "    \"\"\"\n",
        "    # For each inferred spike, find the closest true spike\n",
        "    matching_spike_ids = torch.full((inferred_spike_times.shape[0],), -1)\n",
        "    for i, inferred_time in enumerate(inferred_spike_times):\n",
        "        # Find the closest true spike within the window size\n",
        "        match = torch.min(abs(true_spike_times - inferred_time), dim=0)\n",
        "        if match.values < WINDOW_SIZE / 2:\n",
        "            matching_spike_ids[i] = true_spike_ids[match.indices]\n",
        "\n",
        "    return matching_spike_ids\n",
        "\n",
        "matching_spike_ids = match_true_and_inferred_spikes(\n",
        "    detected_spike_times,\n",
        "    true_spike_times,\n",
        "    true_spike_ids\n",
        ")"
      ]
    },
    {
      "cell_type": "markdown",
      "metadata": {},
      "source": [
        "### Problem 2d: Compare the true and inferred spike assignments\n",
        "\n",
        "Create a confusion matrix that counts how many times each inferred spike assignment\n",
        "was matched to either a false positive (-1) or a true neuron $k$ for $k=1,\\ldots,K_{\\mathsf{true}}$.\n",
        "\n",
        "Show this confusion matrix using `plt.imshow`. Remember to label your axes and include a colorbar!"
      ]
    },
    {
      "cell_type": "code",
      "execution_count": null,
      "metadata": {},
      "outputs": [],
      "source": [
        "# TODO"
      ]
    },
    {
      "cell_type": "markdown",
      "metadata": {},
      "source": [
        "### Problem 2e: Interpretation\n",
        "\n",
        "How well is your spike sorter performing, as judged by the confusion matrix above? What kinds of errors, if any, is it making?"
      ]
    },
    {
      "cell_type": "markdown",
      "metadata": {},
      "source": [
        "---\n",
        "\n",
        "_Your answer here_\n",
        "\n",
        "---"
      ]
    },
    {
      "cell_type": "markdown",
      "metadata": {
        "id": "0Jv-ZeB_nBAD"
      },
      "source": [
        "## Part 3: Generalizations\n",
        "\n",
        "Now that you have implemented a bare bones spike sorter, let's consider some improvements you could make. You don't need to write any code for this part &mdash; just provide written responses.\n"
      ]
    },
    {
      "cell_type": "markdown",
      "metadata": {},
      "source": [
        "### Problem 3a\n",
        "How would you change the model to account for neurons that have different firing rates?\n"
      ]
    },
    {
      "cell_type": "markdown",
      "metadata": {},
      "source": [
        "---\n",
        "\n",
        "_Your answer here_\n",
        "\n",
        "---"
      ]
    },
    {
      "cell_type": "markdown",
      "metadata": {},
      "source": [
        "### Problem 3b\n",
        "\n",
        "How would you generalize this model if spikes from the same neuron could have different amplitudes? That is, on average $\\mathbf{X}_s$ equals the template $\\mathbf{W}_{z_s}$, but they can be scaled up or down by a random number $a_s > 0$. Describe how you would update your model to allow for this extra form of variability."
      ]
    },
    {
      "cell_type": "markdown",
      "metadata": {},
      "source": [
        "---\n",
        "\n",
        "_Your answer here_\n",
        "\n",
        "---"
      ]
    },
    {
      "cell_type": "markdown",
      "metadata": {},
      "source": [
        "### Problem 3c\n",
        "\n",
        "Here we assumed that we knew the number of neurons, but of course that's unrealistic. How would you estimate the number of neurons in a data-driven manner?\n"
      ]
    },
    {
      "cell_type": "markdown",
      "metadata": {},
      "source": [
        "---\n",
        "\n",
        "_Your answer here_\n",
        "\n",
        "---"
      ]
    },
    {
      "cell_type": "markdown",
      "metadata": {},
      "source": [
        "## Submission Instructions\n",
        "\n",
        "**Formatting:** check that your code does not exceed 80 characters in line width. You can set _Tools &rarr; Settings &rarr; Editor &rarr; Vertical ruler column_ to 80 to see when you've exceeded the limit.\n",
        "\n",
        "**Converting to PDF** The simplest way to convert to PDF is to use the \"Print to PDF\" option in your browser. Just make sure that your code and plots aren't cut off, as it may not wrap lines.\n",
        "\n",
        "**Alternatively** You can download your notebook in .ipynb format and use the following commands to convert it to PDF.  Then run the following command to convert to a PDF:\n",
        "```\n",
        "jupyter nbconvert --to pdf <yourlastname>_hw<number>.ipynb\n",
        "```\n",
        "(Note that for the above code to work, you need to rename your file `<yourlastname>_hw<number>.ipynb`)\n",
        "\n",
        "**Installing nbconvert:**\n",
        "\n",
        "If you're using Anaconda for package management,\n",
        "```\n",
        "conda install -c anaconda nbconvert\n",
        "```\n",
        "\n",
        "**Upload** your .pdf file to Gradescope. Please tag your questions correctly! I.e., for each question, all of and only the relevant sections are tagged.\n",
        "\n",
        "Please post on Ed or come to OH if there are any other problems submitting the HW."
      ]
    }
  ],
  "metadata": {
    "colab": {
      "provenance": [],
      "toc_visible": true
    },
    "kernelspec": {
      "display_name": "base",
      "language": "python",
      "name": "python3"
    },
    "language_info": {
      "codemirror_mode": {
        "name": "ipython",
        "version": 3
      },
      "file_extension": ".py",
      "mimetype": "text/x-python",
      "name": "python",
      "nbconvert_exporter": "python",
      "pygments_lexer": "ipython3",
      "version": "3.10.9"
    },
    "widgets": {
      "application/vnd.jupyter.widget-state+json": {
        "0d14c0c362d34898b23d9e6ebed3023d": {
          "model_module": "@jupyter-widgets/base",
          "model_module_version": "1.2.0",
          "model_name": "LayoutModel",
          "state": {
            "_model_module": "@jupyter-widgets/base",
            "_model_module_version": "1.2.0",
            "_model_name": "LayoutModel",
            "_view_count": null,
            "_view_module": "@jupyter-widgets/base",
            "_view_module_version": "1.2.0",
            "_view_name": "LayoutView",
            "align_content": null,
            "align_items": null,
            "align_self": null,
            "border": null,
            "bottom": null,
            "display": null,
            "flex": null,
            "flex_flow": null,
            "grid_area": null,
            "grid_auto_columns": null,
            "grid_auto_flow": null,
            "grid_auto_rows": null,
            "grid_column": null,
            "grid_gap": null,
            "grid_row": null,
            "grid_template_areas": null,
            "grid_template_columns": null,
            "grid_template_rows": null,
            "height": null,
            "justify_content": null,
            "justify_items": null,
            "left": null,
            "margin": null,
            "max_height": null,
            "max_width": null,
            "min_height": null,
            "min_width": null,
            "object_fit": null,
            "object_position": null,
            "order": null,
            "overflow": null,
            "overflow_x": null,
            "overflow_y": null,
            "padding": null,
            "right": null,
            "top": null,
            "visibility": null,
            "width": null
          }
        },
        "230ab1a4959b4a9190b8328737985aaa": {
          "model_module": "@jupyter-widgets/base",
          "model_module_version": "1.2.0",
          "model_name": "LayoutModel",
          "state": {
            "_model_module": "@jupyter-widgets/base",
            "_model_module_version": "1.2.0",
            "_model_name": "LayoutModel",
            "_view_count": null,
            "_view_module": "@jupyter-widgets/base",
            "_view_module_version": "1.2.0",
            "_view_name": "LayoutView",
            "align_content": null,
            "align_items": null,
            "align_self": null,
            "border": null,
            "bottom": null,
            "display": null,
            "flex": null,
            "flex_flow": null,
            "grid_area": null,
            "grid_auto_columns": null,
            "grid_auto_flow": null,
            "grid_auto_rows": null,
            "grid_column": null,
            "grid_gap": null,
            "grid_row": null,
            "grid_template_areas": null,
            "grid_template_columns": null,
            "grid_template_rows": null,
            "height": null,
            "justify_content": null,
            "justify_items": null,
            "left": null,
            "margin": null,
            "max_height": null,
            "max_width": null,
            "min_height": null,
            "min_width": null,
            "object_fit": null,
            "object_position": null,
            "order": null,
            "overflow": null,
            "overflow_x": null,
            "overflow_y": null,
            "padding": null,
            "right": null,
            "top": null,
            "visibility": null,
            "width": null
          }
        },
        "49abd7dbe82d42f497001cd8fc7850d0": {
          "model_module": "@jupyter-widgets/controls",
          "model_module_version": "1.5.0",
          "model_name": "HTMLModel",
          "state": {
            "_dom_classes": [],
            "_model_module": "@jupyter-widgets/controls",
            "_model_module_version": "1.5.0",
            "_model_name": "HTMLModel",
            "_view_count": null,
            "_view_module": "@jupyter-widgets/controls",
            "_view_module_version": "1.5.0",
            "_view_name": "HTMLView",
            "description": "",
            "description_tooltip": null,
            "layout": "IPY_MODEL_230ab1a4959b4a9190b8328737985aaa",
            "placeholder": "​",
            "style": "IPY_MODEL_763d50540c5542b7a74b4ec6dd648495",
            "value": " 64/64 [00:01&lt;00:00, 34.12it/s]"
          }
        },
        "612dac58cf0c4c82834b93351486ec9b": {
          "model_module": "@jupyter-widgets/base",
          "model_module_version": "1.2.0",
          "model_name": "LayoutModel",
          "state": {
            "_model_module": "@jupyter-widgets/base",
            "_model_module_version": "1.2.0",
            "_model_name": "LayoutModel",
            "_view_count": null,
            "_view_module": "@jupyter-widgets/base",
            "_view_module_version": "1.2.0",
            "_view_name": "LayoutView",
            "align_content": null,
            "align_items": null,
            "align_self": null,
            "border": null,
            "bottom": null,
            "display": null,
            "flex": null,
            "flex_flow": null,
            "grid_area": null,
            "grid_auto_columns": null,
            "grid_auto_flow": null,
            "grid_auto_rows": null,
            "grid_column": null,
            "grid_gap": null,
            "grid_row": null,
            "grid_template_areas": null,
            "grid_template_columns": null,
            "grid_template_rows": null,
            "height": null,
            "justify_content": null,
            "justify_items": null,
            "left": null,
            "margin": null,
            "max_height": null,
            "max_width": null,
            "min_height": null,
            "min_width": null,
            "object_fit": null,
            "object_position": null,
            "order": null,
            "overflow": null,
            "overflow_x": null,
            "overflow_y": null,
            "padding": null,
            "right": null,
            "top": null,
            "visibility": null,
            "width": null
          }
        },
        "6fcb324f75624a8487d5f242222dc630": {
          "model_module": "@jupyter-widgets/controls",
          "model_module_version": "1.5.0",
          "model_name": "HBoxModel",
          "state": {
            "_dom_classes": [],
            "_model_module": "@jupyter-widgets/controls",
            "_model_module_version": "1.5.0",
            "_model_name": "HBoxModel",
            "_view_count": null,
            "_view_module": "@jupyter-widgets/controls",
            "_view_module_version": "1.5.0",
            "_view_name": "HBoxView",
            "box_style": "",
            "children": [
              "IPY_MODEL_a836eaa8bf3d45fabd756d432cbee25e",
              "IPY_MODEL_49abd7dbe82d42f497001cd8fc7850d0"
            ],
            "layout": "IPY_MODEL_0d14c0c362d34898b23d9e6ebed3023d"
          }
        },
        "763d50540c5542b7a74b4ec6dd648495": {
          "model_module": "@jupyter-widgets/controls",
          "model_module_version": "1.5.0",
          "model_name": "DescriptionStyleModel",
          "state": {
            "_model_module": "@jupyter-widgets/controls",
            "_model_module_version": "1.5.0",
            "_model_name": "DescriptionStyleModel",
            "_view_count": null,
            "_view_module": "@jupyter-widgets/base",
            "_view_module_version": "1.2.0",
            "_view_name": "StyleView",
            "description_width": ""
          }
        },
        "96b47cd12eff48ee95ab04a583446be0": {
          "model_module": "@jupyter-widgets/controls",
          "model_module_version": "1.5.0",
          "model_name": "FloatProgressModel",
          "state": {
            "_dom_classes": [],
            "_model_module": "@jupyter-widgets/controls",
            "_model_module_version": "1.5.0",
            "_model_name": "FloatProgressModel",
            "_view_count": null,
            "_view_module": "@jupyter-widgets/controls",
            "_view_module_version": "1.5.0",
            "_view_name": "ProgressView",
            "bar_style": "danger",
            "description": "LP: -1.3730:  50%",
            "description_tooltip": null,
            "layout": "IPY_MODEL_612dac58cf0c4c82834b93351486ec9b",
            "max": 10,
            "min": 0,
            "orientation": "horizontal",
            "style": "IPY_MODEL_c556e9aed2294dca9b1c9097ebe9a773",
            "value": 5
          }
        },
        "96ef6b8cd12c4c768a8e3567a3b6a4c5": {
          "model_module": "@jupyter-widgets/controls",
          "model_module_version": "1.5.0",
          "model_name": "ProgressStyleModel",
          "state": {
            "_model_module": "@jupyter-widgets/controls",
            "_model_module_version": "1.5.0",
            "_model_name": "ProgressStyleModel",
            "_view_count": null,
            "_view_module": "@jupyter-widgets/base",
            "_view_module_version": "1.2.0",
            "_view_name": "StyleView",
            "bar_color": null,
            "description_width": "initial"
          }
        },
        "997037fed3e14da6bcd522c2760f1758": {
          "model_module": "@jupyter-widgets/base",
          "model_module_version": "1.2.0",
          "model_name": "LayoutModel",
          "state": {
            "_model_module": "@jupyter-widgets/base",
            "_model_module_version": "1.2.0",
            "_model_name": "LayoutModel",
            "_view_count": null,
            "_view_module": "@jupyter-widgets/base",
            "_view_module_version": "1.2.0",
            "_view_name": "LayoutView",
            "align_content": null,
            "align_items": null,
            "align_self": null,
            "border": null,
            "bottom": null,
            "display": null,
            "flex": null,
            "flex_flow": null,
            "grid_area": null,
            "grid_auto_columns": null,
            "grid_auto_flow": null,
            "grid_auto_rows": null,
            "grid_column": null,
            "grid_gap": null,
            "grid_row": null,
            "grid_template_areas": null,
            "grid_template_columns": null,
            "grid_template_rows": null,
            "height": null,
            "justify_content": null,
            "justify_items": null,
            "left": null,
            "margin": null,
            "max_height": null,
            "max_width": null,
            "min_height": null,
            "min_width": null,
            "object_fit": null,
            "object_position": null,
            "order": null,
            "overflow": null,
            "overflow_x": null,
            "overflow_y": null,
            "padding": null,
            "right": null,
            "top": null,
            "visibility": null,
            "width": null
          }
        },
        "a3a11f0050ce4e04abfb9bfddc6aba2e": {
          "model_module": "@jupyter-widgets/controls",
          "model_module_version": "1.5.0",
          "model_name": "HTMLModel",
          "state": {
            "_dom_classes": [],
            "_model_module": "@jupyter-widgets/controls",
            "_model_module_version": "1.5.0",
            "_model_name": "HTMLModel",
            "_view_count": null,
            "_view_module": "@jupyter-widgets/controls",
            "_view_module_version": "1.5.0",
            "_view_name": "HTMLView",
            "description": "",
            "description_tooltip": null,
            "layout": "IPY_MODEL_bd561edb29574a508f9ea5c31782cee2",
            "placeholder": "​",
            "style": "IPY_MODEL_ae2435907faa4b3f8ec0ef1959b61b3e",
            "value": " 5/10 [01:14&lt;01:14, 14.84s/it]"
          }
        },
        "a836eaa8bf3d45fabd756d432cbee25e": {
          "model_module": "@jupyter-widgets/controls",
          "model_module_version": "1.5.0",
          "model_name": "FloatProgressModel",
          "state": {
            "_dom_classes": [],
            "_model_module": "@jupyter-widgets/controls",
            "_model_module_version": "1.5.0",
            "_model_name": "FloatProgressModel",
            "_view_count": null,
            "_view_module": "@jupyter-widgets/controls",
            "_view_module_version": "1.5.0",
            "_view_name": "ProgressView",
            "bar_style": "success",
            "description": "100%",
            "description_tooltip": null,
            "layout": "IPY_MODEL_997037fed3e14da6bcd522c2760f1758",
            "max": 64,
            "min": 0,
            "orientation": "horizontal",
            "style": "IPY_MODEL_96ef6b8cd12c4c768a8e3567a3b6a4c5",
            "value": 64
          }
        },
        "ae2435907faa4b3f8ec0ef1959b61b3e": {
          "model_module": "@jupyter-widgets/controls",
          "model_module_version": "1.5.0",
          "model_name": "DescriptionStyleModel",
          "state": {
            "_model_module": "@jupyter-widgets/controls",
            "_model_module_version": "1.5.0",
            "_model_name": "DescriptionStyleModel",
            "_view_count": null,
            "_view_module": "@jupyter-widgets/base",
            "_view_module_version": "1.2.0",
            "_view_name": "StyleView",
            "description_width": ""
          }
        },
        "b493cb5433564ae78f8efff3b89a46a3": {
          "model_module": "@jupyter-widgets/controls",
          "model_module_version": "1.5.0",
          "model_name": "HBoxModel",
          "state": {
            "_dom_classes": [],
            "_model_module": "@jupyter-widgets/controls",
            "_model_module_version": "1.5.0",
            "_model_name": "HBoxModel",
            "_view_count": null,
            "_view_module": "@jupyter-widgets/controls",
            "_view_module_version": "1.5.0",
            "_view_name": "HBoxView",
            "box_style": "",
            "children": [
              "IPY_MODEL_96b47cd12eff48ee95ab04a583446be0",
              "IPY_MODEL_a3a11f0050ce4e04abfb9bfddc6aba2e"
            ],
            "layout": "IPY_MODEL_f2e046db3af54ec888c3702e232eb850"
          }
        },
        "bd561edb29574a508f9ea5c31782cee2": {
          "model_module": "@jupyter-widgets/base",
          "model_module_version": "1.2.0",
          "model_name": "LayoutModel",
          "state": {
            "_model_module": "@jupyter-widgets/base",
            "_model_module_version": "1.2.0",
            "_model_name": "LayoutModel",
            "_view_count": null,
            "_view_module": "@jupyter-widgets/base",
            "_view_module_version": "1.2.0",
            "_view_name": "LayoutView",
            "align_content": null,
            "align_items": null,
            "align_self": null,
            "border": null,
            "bottom": null,
            "display": null,
            "flex": null,
            "flex_flow": null,
            "grid_area": null,
            "grid_auto_columns": null,
            "grid_auto_flow": null,
            "grid_auto_rows": null,
            "grid_column": null,
            "grid_gap": null,
            "grid_row": null,
            "grid_template_areas": null,
            "grid_template_columns": null,
            "grid_template_rows": null,
            "height": null,
            "justify_content": null,
            "justify_items": null,
            "left": null,
            "margin": null,
            "max_height": null,
            "max_width": null,
            "min_height": null,
            "min_width": null,
            "object_fit": null,
            "object_position": null,
            "order": null,
            "overflow": null,
            "overflow_x": null,
            "overflow_y": null,
            "padding": null,
            "right": null,
            "top": null,
            "visibility": null,
            "width": null
          }
        },
        "c556e9aed2294dca9b1c9097ebe9a773": {
          "model_module": "@jupyter-widgets/controls",
          "model_module_version": "1.5.0",
          "model_name": "ProgressStyleModel",
          "state": {
            "_model_module": "@jupyter-widgets/controls",
            "_model_module_version": "1.5.0",
            "_model_name": "ProgressStyleModel",
            "_view_count": null,
            "_view_module": "@jupyter-widgets/base",
            "_view_module_version": "1.2.0",
            "_view_name": "StyleView",
            "bar_color": null,
            "description_width": "initial"
          }
        },
        "f2e046db3af54ec888c3702e232eb850": {
          "model_module": "@jupyter-widgets/base",
          "model_module_version": "1.2.0",
          "model_name": "LayoutModel",
          "state": {
            "_model_module": "@jupyter-widgets/base",
            "_model_module_version": "1.2.0",
            "_model_name": "LayoutModel",
            "_view_count": null,
            "_view_module": "@jupyter-widgets/base",
            "_view_module_version": "1.2.0",
            "_view_name": "LayoutView",
            "align_content": null,
            "align_items": null,
            "align_self": null,
            "border": null,
            "bottom": null,
            "display": null,
            "flex": null,
            "flex_flow": null,
            "grid_area": null,
            "grid_auto_columns": null,
            "grid_auto_flow": null,
            "grid_auto_rows": null,
            "grid_column": null,
            "grid_gap": null,
            "grid_row": null,
            "grid_template_areas": null,
            "grid_template_columns": null,
            "grid_template_rows": null,
            "height": null,
            "justify_content": null,
            "justify_items": null,
            "left": null,
            "margin": null,
            "max_height": null,
            "max_width": null,
            "min_height": null,
            "min_width": null,
            "object_fit": null,
            "object_position": null,
            "order": null,
            "overflow": null,
            "overflow_x": null,
            "overflow_y": null,
            "padding": null,
            "right": null,
            "top": null,
            "visibility": null,
            "width": null
          }
        }
      }
    }
  },
  "nbformat": 4,
  "nbformat_minor": 0
}
